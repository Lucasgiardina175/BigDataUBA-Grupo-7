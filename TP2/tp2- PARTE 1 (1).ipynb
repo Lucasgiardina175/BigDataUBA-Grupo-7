{
 "cells": [
  {
   "cell_type": "markdown",
   "id": "ccc6fdbd-8299-4768-9984-23c11ee5ef5b",
   "metadata": {},
   "source": [
    "## PUNTO 1 "
   ]
  },
  {
   "cell_type": "markdown",
   "id": "6b6d7f61-5cf8-4fa2-b13c-67dfb19324de",
   "metadata": {},
   "source": [
    "##### Según el INDEC, una persona es considerada desocupada si durante la semana que se toma como referencia no tuvo trabajo, pero estaba disponible para empezar a trabajar y además estuvo buscando activamente empleo en las últimas cuatro semanas. Esta búsqueda puede ser de distintas formas, como mandar currículums, buscar avisos, hablar con conocidos, entre otras.\n",
    "\n",
    "##### Esta clasificación se realiza a través de la Encuesta Permanente de Hogares (EPH), que es una herramienta que utiliza el INDEC para conocer la situación laboral, educativa y habitacional de la población. Es importante aclarar que si una persona no tiene trabajo, pero tampoco buscó activamente, no se la cuenta como desocupada, sino como inactiva.\n",
    "\n",
    "##### También existe otra categoría llamada \"ocupados demandantes\", que son personas que sí tienen trabajo, pero están buscando uno mejor o más horas de trabajo. Todo esto ayuda a entender mejor el mercado laboral y cómo evoluciona el desempleo en el país.\n",
    "\n"
   ]
  },
  {
   "cell_type": "markdown",
   "id": "0dd4c95b-d8ec-4d65-90f7-8b3b20439528",
   "metadata": {},
   "source": [
    "## PUNTO 2 (A)"
   ]
  },
  {
   "cell_type": "markdown",
   "id": "9510704d-d2f5-4213-a4c2-4b9aadd67f78",
   "metadata": {},
   "source": [
    "#### ACLARACIÓN: PARA REALIZAR LA UNION DE BASE DE DATOS, UTILIZAMOS EL ARCHIVO DTA.2004 Y LO TRANSFORMAMOS EN UN ARCHIVO 2004.XLSX, PARA QUE LOS DATOS QUEDEN MAS CLARO Y ASI DISMINUIR LOS ERRORES"
   ]
  },
  {
   "cell_type": "code",
   "execution_count": 3,
   "id": "879e305b-93c1-410a-a7e4-efc6b7e86437",
   "metadata": {
    "scrolled": true
   },
   "outputs": [
    {
     "name": "stdout",
     "output_type": "stream",
     "text": [
      "   CODUSU  nro_hogar componente h15    ano4       trimestre    region mas_500  \\\n",
      "0  125051        1.0          1  S�  2004.0  1er. Trimestre  Pampeana       S   \n",
      "1  125051        1.0          2  S�  2004.0  1er. Trimestre  Pampeana       S   \n",
      "2  125051        1.0          3  S�  2004.0  1er. Trimestre  Pampeana       S   \n",
      "3  125051        1.0          4  S�  2004.0  1er. Trimestre  Pampeana       S   \n",
      "4  125051        1.0          5   0  2004.0  1er. Trimestre  Pampeana       S   \n",
      "\n",
      "      aglomerado  pondera  ... PDECIFR ADECIFR IPCF DECCFR IDECCFR RDECCFR  \\\n",
      "0  Gran La Plata    355.0  ...     NaN     NaN  NaN    NaN     NaN     NaN   \n",
      "1  Gran La Plata    355.0  ...     NaN     NaN  NaN    NaN     NaN     NaN   \n",
      "2  Gran La Plata    355.0  ...     NaN     NaN  NaN    NaN     NaN     NaN   \n",
      "3  Gran La Plata    355.0  ...     NaN     NaN  NaN    NaN     NaN     NaN   \n",
      "4  Gran La Plata    355.0  ...     NaN     NaN  NaN    NaN     NaN     NaN   \n",
      "\n",
      "  GDECCFR PDECCFR ADECCFR PONDIH  \n",
      "0     NaN     NaN     NaN    NaN  \n",
      "1     NaN     NaN     NaN    NaN  \n",
      "2     NaN     NaN     NaN    NaN  \n",
      "3     NaN     NaN     NaN    NaN  \n",
      "4     NaN     NaN     NaN    NaN  \n",
      "\n",
      "[5 rows x 352 columns]\n"
     ]
    }
   ],
   "source": [
    "import pandas as pd\n",
    "\n",
    "# Cargarmos los archivos Excel \n",
    "df_2004 = pd.read_excel('usu_individual_T104.xlsx')  \n",
    "df_2024 = pd.read_excel('usu_individual_T124.xlsx')  \n",
    "# Filtramos la region que elegimos en este caso la pampeana\n",
    "df_2004_pampeana = df_2004[df_2004['region'] == 'Pampeana']\n",
    "\n",
    "# Filtrar la región Pampeana en 2024 (el codigo es el 43)\n",
    "df_2024_pampeana = df_2024[df_2024['REGION'] == 43]\n",
    "\n",
    "# Unimos ambos DataFrames (2004 y 2024) en una sola base de datos\n",
    "df_final = pd.concat([df_2004_pampeana, df_2024_pampeana], ignore_index=True)\n",
    "\n",
    "# Guardarmos el resultado final en un nuevo archivo Excel\n",
    "df_final.to_excel('resultado_pampeana.xlsx', index=False)\n",
    "\n",
    "# Imprimir las primeras filas del resultado para verificar si es correcto el resultado\n",
    "print(df_final.head())\n"
   ]
  },
  {
   "cell_type": "markdown",
   "id": "cffbe3d8-1691-4f47-a304-3135af94984d",
   "metadata": {},
   "source": [
    "## PUNTO 2 (B)"
   ]
  },
  {
   "cell_type": "markdown",
   "id": "f32b0b63-e84e-4fbe-93a0-e483ee561692",
   "metadata": {},
   "source": [
    "### 2004"
   ]
  },
  {
   "cell_type": "code",
   "execution_count": 1,
   "id": "36f83e55-c165-430a-bc66-7e83265bec75",
   "metadata": {},
   "outputs": [
    {
     "name": "stdout",
     "output_type": "stream",
     "text": [
      "Valores vacíos o inconclusos para la region pampeana (2004):\n",
      "\n",
      "Variable  Cantidad de Faltantes\n",
      "    ch03                      0\n",
      "    ch04                      0\n",
      "nivel_ed                      0\n",
      "    ch14                   7138\n",
      "idecocur                   9139\n",
      " decocur                   9139\n",
      "   pp11t                      0\n",
      "    ch06                      0\n",
      "    ch07                      0\n",
      "    ch08                      0\n",
      "    ch12                      0\n",
      "cat_inac                      0\n",
      "   pp04a                      0\n",
      "  estado                      0\n",
      "    ch16                      0\n"
     ]
    }
   ],
   "source": [
    "import pandas as pd\n",
    "\n",
    "# Cargarmos los datos del 2004\n",
    "df_2004 = pd.read_excel(\"usu_individual_T104.xlsx\")\n",
    "\n",
    "# Filtramos los datos para la región Pampeana \n",
    "df_2004_pampeana = df_2004[df_2004['region'] == 'Pampeana']\n",
    "\n",
    "# Seleccionamos las 15 variables\n",
    "variables = ['ch03', 'ch04', 'nivel_ed', 'ch14', \"idecocur\" , \"decocur\", \"pp11t\", \"ch06\", \"ch07\", \"ch08\", \"ch12\", \"cat_inac\",\"pp04a\",\"estado\",\"ch16\"]\n",
    "df_2004_pampeana_vars = df_2004_pampeana[variables].copy()\n",
    "\n",
    "# Verificamos celdas vacías: vamos a contar \"\" (cadenas vacías) y espacios en blanco\n",
    "faltantes_2004_pampeana = df_2004_pampeana_vars.apply(lambda x: x.str.strip() == '').sum()\n",
    "\n",
    "# Crear un DataFrame para mostrar los resultados\n",
    "faltantes_2004_pampeana = pd.DataFrame({\n",
    "    'Variable': faltantes_2004_pampeana.index,\n",
    "    'Cantidad de Faltantes': faltantes_2004_pampeana.values\n",
    "})\n",
    "\n",
    "# Imprimir resultados\n",
    "print(\"Valores vacíos o inconclusos para la region pampeana (2004):\\n\")\n",
    "print(faltantes_2004_pampeana.to_string(index=False))\n",
    "\n"
   ]
  },
  {
   "cell_type": "markdown",
   "id": "6121ace7-2fdd-4ed2-a102-d63bd7bc0859",
   "metadata": {},
   "source": [
    "## 2024"
   ]
  },
  {
   "cell_type": "code",
   "execution_count": 2,
   "id": "ab53c1b6-4c8d-4f98-a7ee-65ca50dab695",
   "metadata": {},
   "outputs": [
    {
     "name": "stdout",
     "output_type": "stream",
     "text": [
      "Cantidad de valores faltantes por variable (Región Pampeana - 2024):\n",
      "\n",
      " Variable  Cantidad de Faltantes\n",
      "     CH03                      0\n",
      "     CH04                      0\n",
      "     CH06                      0\n",
      "     CH07                      0\n",
      " NIVEL_ED                      0\n",
      "   ESTADO                      0\n",
      " CAT_OCUP                      0\n",
      "    PP04A                   8108\n",
      "PP04B_COD                   8108\n",
      "    PP04G                   8108\n",
      "     CH08                      0\n",
      "     CH09                      0\n",
      "     CH10                      0\n",
      "     CH11                      0\n",
      "     CH12                      0\n"
     ]
    }
   ],
   "source": [
    "import pandas as pd\n",
    "\n",
    "# Cargamos el archivo Excel del año 2024\n",
    "df_2024 = pd.read_excel(\"usu_individual_T124.xlsx\")\n",
    "\n",
    "# Filtramos la región Pampeana (43)\n",
    "df_pampeana = df_2024[df_2024['REGION'] == 43].copy()\n",
    "\n",
    "# Seleccionamos 15 variables de interés\n",
    "variables_interes = [\n",
    "    'CH03', 'CH04', 'CH06', 'CH07', 'NIVEL_ED', \n",
    "    'ESTADO', 'CAT_OCUP', 'PP04A', 'PP04B_COD', 'PP04G',\"CH08\" , \"CH09\", \"CH10\", \"CH11\",\"CH12\"\n",
    "]\n",
    "\n",
    "# Subset del DataFrame con esas variables\n",
    "df_pampeana_vars = df_pampeana[variables_interes].copy()\n",
    "\n",
    "# Reemplazamos valores vacíos o espacios en blanco con NaN\n",
    "df_pampeana_vars = df_pampeana_vars.replace(r'^\\s*$', pd.NA, regex=True)\n",
    "\n",
    "# Contamos faltantes por variable\n",
    "faltantes = df_pampeana_vars.isna().sum()\n",
    "\n",
    "# Creamos tabla de resultados\n",
    "tabla_faltantes = pd.DataFrame({\n",
    "    'Variable': faltantes.index,\n",
    "    'Cantidad de Faltantes': faltantes.values\n",
    "})\n",
    "\n",
    "# Mostrar la tabla\n",
    "print(\"Cantidad de valores faltantes por variable (Región Pampeana - 2024):\\n\")\n",
    "print(tabla_faltantes.to_string(index=False))\n",
    "\n"
   ]
  },
  {
   "cell_type": "markdown",
   "id": "ad821eb5-12bc-4ac3-9895-dd152878a7f9",
   "metadata": {},
   "source": [
    "# CONCLUSION\n",
    "#### en este caso ambas tienen 3 variables que tienen espacios vacíos o inconclusos esto se debe a que no fueron contestados o dañados, aunque destacamos que la base de datos del 2024 esta mucho completa y ordenada a la hora de trabajar, ya que en la base de datos del 2004 las respuestas tenían mas variables insistentes, aunque generalmente en las principales ítems (sexo, estado civil, ocupación) ambas bases de datos tenian completa esa respuestas de manera ordenada y sencilla de interpretar."
   ]
  },
  {
   "cell_type": "markdown",
   "id": "415bd79c-0cc6-424d-a2b0-aa88cc27da3c",
   "metadata": {},
   "source": [
    "## PUNTO 2 (C)"
   ]
  },
  {
   "cell_type": "code",
   "execution_count": null,
   "id": "ae7ca3a0-e2c1-43e2-bddb-0ca3179193d3",
   "metadata": {},
   "outputs": [],
   "source": [
    "import pandas as pd\n",
    "\n",
    "# Cargamos datos \n",
    "# df = pd.read_csv(\"obtenido\")\n",
    "\n",
    "# Listado de variables que necesitemos limpiar\n",
    "variables_interes = [\"variable a analizar\"]\n",
    "\n",
    "# Definimos valores considerados como codificaciones de no respuesta o anómalos\n",
    "valores_invalidos = [-9, -8, -1, 9999999]\n",
    "\n",
    "# Reemplazamos estos valores por NaN\n",
    "df[variables_interes] = df[variables_interes].replace(valores_invalidos, pd.NA)\n",
    "\n",
    "# Además, eliminamos ingresos negativos que no tienen sentido (si aplica)\n",
    "df['ingreso_total'] = df['ingreso_total'].mask(df['ingreso_total'] < 0, pd.NA)\n",
    "df['ingreso_laboral'] = df['ingreso_laboral'].mask(df['ingreso_laboral'] < 0, pd.NA)\n",
    "df['ingreso_no_laboral'] = df['ingreso_no_laboral'].mask(df['ingreso_no_laboral'] < 0, pd.NA)\n",
    "\n",
    "# Eliminamos filas que tengan NaN en alguna de las variables de interés\n",
    "df_limpio = df.dropna(subset=variables_interes)\n",
    "\n",
    "# Verificamos\n",
    "print(f\"Filas originales: {len(df)}\")\n",
    "print(f\"Filas luego de la limpieza: {len(df_limpio)}\")\n"
   ]
  },
  {
   "cell_type": "markdown",
   "id": "bdaf0840-5ed7-4a8d-b5d1-87b095f850cd",
   "metadata": {},
   "source": [
    "# CONCLUSION\n",
    "#### EN ESTE CASO NO NOS ENCONTRAMOS CON UN INGRESO NEGATIVO, PERO SI LO TENDRIAMOS UTILIZARAMOS ESTA LINEA DE CODIGO PARA LOGRAR LIMPIAR LOS DATOS "
   ]
  },
  {
   "cell_type": "markdown",
   "id": "4fe83165-9fa5-497a-8aab-af978ad3f604",
   "metadata": {},
   "source": [
    "## PUNTO 3"
   ]
  },
  {
   "cell_type": "markdown",
   "id": "69f62191-ccdf-47cb-b1bb-0b1f54b9049c",
   "metadata": {},
   "source": [
    "## 2004"
   ]
  },
  {
   "cell_type": "code",
   "execution_count": 6,
   "id": "fb537c7f-a22b-4418-9cb7-158106466f3e",
   "metadata": {},
   "outputs": [
    {
     "name": "stdout",
     "output_type": "stream",
     "text": [
      "Columnas del archivo:\n",
      "Index(['CODUSU', 'nro_hogar', 'componente', 'h15', 'ano4', 'trimestre',\n",
      "       'region', 'mas_500', 'aglomerado', 'pondera',\n",
      "       ...\n",
      "       'deccfr', 'ideccfr', 'rdeccfr', 'gdeccfr', 'pdeccfr', 'adeccfr',\n",
      "       'pj1_1', 'pj2_1', 'pj3_1', 'idimpp'],\n",
      "      dtype='object', length=176)\n"
     ]
    },
    {
     "data": {
      "image/png": "[encoded data removed]",
      "text/plain": [
       "<Figure size 800x500 with 1 Axes>"
      ]
     },
     "metadata": {},
     "output_type": "display_data"
    },
    {
     "name": "stdout",
     "output_type": "stream",
     "text": [
      "\n",
      " Comentario:\n",
      "En 2004 hubo más mujeres que varones.\n"
     ]
    }
   ],
   "source": [
    "import pandas as pd\n",
    "import matplotlib.pyplot as plt\n",
    "\n",
    "# Cargamos el archivo Excel (todo el archivo es del año 2004)\n",
    "archivo = \"usu_individual_T104.xlsx\"\n",
    "df = pd.read_excel(archivo)\n",
    "\n",
    "# Verificamos las columnas \n",
    "print(\"Columnas del archivo:\")\n",
    "print(df.columns)\n",
    "\n",
    "# Contamos cuántos hay por sexo (columna CH04)\n",
    "conteo_sexo = df['ch04'].value_counts()\n",
    "\n",
    "# Creamos gráfico de barras\n",
    "plt.figure(figsize=(8, 5))\n",
    "barras = plt.bar(conteo_sexo.index, conteo_sexo.values, color=['skyblue', 'pink'])\n",
    "\n",
    "# Agregamos Título y etiquetas\n",
    "plt.title('Distribución por sexo (CH04) - Año 2004')\n",
    "plt.xlabel('Sexo')\n",
    "plt.ylabel('Cantidad de personas')\n",
    "plt.xticks(rotation=0)\n",
    "plt.grid(axis='y', linestyle='--', alpha=0.7)\n",
    "\n",
    "# Agregamos etiquetas de cantidad encima de cada barra\n",
    "for barra in barras:\n",
    "    altura = barra.get_height()\n",
    "    plt.text(barra.get_x() + barra.get_width() / 2, altura + 50,  # +50 para que no se superponga\n",
    "             f'{int(altura)}', ha='center', va='bottom', fontsize=10, fontweight='bold')\n",
    "\n",
    "plt.tight_layout()\n",
    "plt.show()\n",
    "\n",
    "# Comentario en consola\n",
    "print(\"\\n Comentario:\")\n",
    "varones = conteo_sexo.get('Varón', 0)\n",
    "mujeres = conteo_sexo.get('Mujer', 0)\n",
    "\n",
    "if varones > mujeres:\n",
    "    print(f\"En 2004 hubo más varones que mujeres.\")\n",
    "elif mujeres > varones:\n",
    "    print(f\"En 2004 hubo más mujeres que varones.\")\n",
    "else:\n",
    "    print(f\"En 2004 hubo la misma cantidad de varones y mujeres.\")\n",
    "\n"
   ]
  },
  {
   "cell_type": "markdown",
   "id": "bd9a1290-c41d-4673-a685-a51653fe677c",
   "metadata": {},
   "source": [
    "## 2024"
   ]
  },
  {
   "cell_type": "code",
   "execution_count": 13,
   "id": "2250f29b-987e-46cd-9259-df67518a3caa",
   "metadata": {},
   "outputs": [
    {
     "name": "stdout",
     "output_type": "stream",
     "text": [
      "Columnas del archivo:\n",
      "Index(['CODUSU', 'ANO4', 'TRIMESTRE', 'NRO_HOGAR', 'COMPONENTE', 'H15',\n",
      "       'REGION', 'MAS_500', 'AGLOMERADO', 'PONDERA',\n",
      "       ...\n",
      "       'PDECIFR', 'ADECIFR', 'IPCF', 'DECCFR', 'IDECCFR', 'RDECCFR', 'GDECCFR',\n",
      "       'PDECCFR', 'ADECCFR', 'PONDIH'],\n",
      "      dtype='object', length=177)\n"
     ]
    },
    {
     "data": {
      "image/png": "[encoded data removed]",
      "text/plain": [
       "<Figure size 800x500 with 1 Axes>"
      ]
     },
     "metadata": {},
     "output_type": "display_data"
    },
    {
     "name": "stdout",
     "output_type": "stream",
     "text": [
      "En 2024 hubo más mujereS que varones.\n"
     ]
    }
   ],
   "source": [
    "import pandas as pd\n",
    "import matplotlib.pyplot as plt\n",
    "\n",
    "# Cargar el archivo Excel (todo el archivo corresponde a 2024)\n",
    "archivo = \"usu_individual_T124.xlsx\"\n",
    "df = pd.read_excel(archivo)\n",
    "\n",
    "# Verificar las columnas (opcional)\n",
    "print(\"Columnas del archivo:\")\n",
    "print(df.columns)\n",
    "\n",
    "# Contar cuántos hay por sexo (discriminado por 1 para varones y 2 para mujeres en la columna 'Sexo')\n",
    "# Cambiar 'Sexo' al nombre exacto de la columna en tu archivo\n",
    "conteo_sexo = df['CH04'].value_counts()\n",
    "\n",
    "# Mapear 1 -> Varón, 2 -> Mujer \n",
    "conteo_sexo.index = conteo_sexo.index.map({1: 'Varón', 2: 'Mujer'})\n",
    "\n",
    "# Creamos gráfico de barras\n",
    "plt.figure(figsize=(8, 5))\n",
    "barras = plt.bar(conteo_sexo.index, conteo_sexo.values, color=['skyblue', 'pink'])\n",
    "\n",
    "# agregamos Títulos y etiquetas\n",
    "plt.title('Distribución por sexo (1=Varón, 2=Mujer) - Año 2024')\n",
    "plt.xlabel('Sexo')\n",
    "plt.ylabel('Cantidad de personas')\n",
    "plt.xticks(rotation=0)\n",
    "plt.grid(axis='y', linestyle='--', alpha=0.7)\n",
    "\n",
    "# Agregamos etiquetas de cantidad encima de cada barra\n",
    "for barra in barras:\n",
    "    altura = barra.get_height()\n",
    "    plt.text(barra.get_x() + barra.get_width() / 2, altura + 50,  # +50 para que no se superponga\n",
    "             f'{int(altura)}', ha='center', va='bottom', fontsize=10, fontweight='bold')\n",
    "\n",
    "plt.tight_layout()\n",
    "plt.show()\n",
    "\n",
    "# Comentario en consola\n",
    "varones = conteo_sexo.get('Varón', 0)\n",
    "mujeres = conteo_sexo.get('Mujer', 0)\n",
    "\n",
    "if varones > mujeres:\n",
    "    print(f\"En 2024 hubo más varones que mujeres.\")\n",
    "elif mujeres > varones:\n",
    "    print(f\"En 2024 hubo más mujereS que varones.\")\n",
    "else:\n",
    "    print(f\"En 2024 hubo la misma cantidad de varones y mujeres.\")\n"
   ]
  },
  {
   "cell_type": "code",
   "execution_count": null,
   "id": "dbda2e4e-cf35-412e-bced-64fa3d7f62f7",
   "metadata": {},
   "outputs": [],
   "source": []
  }
 ],
 "metadata": {
  "kernelspec": {
   "display_name": "Python 3 (ipykernel)",
   "language": "python",
   "name": "python3"
  },
  "language_info": {
   "codemirror_mode": {
    "name": "ipython",
    "version": 3
   },
   "file_extension": ".py",
   "mimetype": "text/x-python",
   "name": "python",
   "nbconvert_exporter": "python",
   "pygments_lexer": "ipython3",
   "version": "3.12.3"
  }
 },
 "nbformat": 4,
 "nbformat_minor": 5
}
